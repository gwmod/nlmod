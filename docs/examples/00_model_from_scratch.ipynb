{
 "cells": [
  {
   "attachments": {},
   "cell_type": "markdown",
   "metadata": {},
   "source": [
    "<IMG SRC=\"https://avatars2.githubusercontent.com/u/31697400?s=400&u=a5a6fc31ec93c07853dd53835936fd90c44f7483&v=4\" WIDTH=125 ALIGN=\"right\">\n",
    "\n",
    "\n",
    "# Building a groundwater model from scratch\n",
    "\n",
    "This notebook shows how to build a basic model from scratch using `nlmod`."
   ]
  },
  {
   "cell_type": "code",
   "execution_count": null,
   "metadata": {},
   "outputs": [],
   "source": [
    "import flopy as fp\n",
    "import pandas as pd\n",
    "\n",
    "import nlmod"
   ]
  },
  {
   "cell_type": "code",
   "execution_count": null,
   "metadata": {},
   "outputs": [],
   "source": [
    "nlmod.util.get_color_logger(\"INFO\")\n",
    "nlmod.show_versions()"
   ]
  },
  {
   "attachments": {},
   "cell_type": "markdown",
   "metadata": {},
   "source": [
    "## Model parameters"
   ]
  },
  {
   "cell_type": "code",
   "execution_count": null,
   "metadata": {},
   "outputs": [],
   "source": [
    "extent = [-500, 500, -500, 500]\n",
    "\n",
    "top = 0.0\n",
    "botm = [-10, -15, -30]\n",
    "\n",
    "kh = [10, 0.1, 20]\n",
    "kv = [0.5 * k for k in kh]\n",
    "\n",
    "dx = 10.0\n",
    "dy = 10.0"
   ]
  },
  {
   "attachments": {},
   "cell_type": "markdown",
   "metadata": {},
   "source": [
    "### Create model dataset"
   ]
  },
  {
   "cell_type": "code",
   "execution_count": null,
   "metadata": {},
   "outputs": [],
   "source": [
    "ds = nlmod.get_ds(\n",
    "    extent,\n",
    "    delr=dx,\n",
    "    delc=dy,\n",
    "    top=top,\n",
    "    botm=botm,\n",
    "    kh=kh,\n",
    "    kv=kv,\n",
    "    model_ws=\"./scratch_model\",\n",
    "    model_name=\"from_scratch\",\n",
    ")\n",
    "ds"
   ]
  },
  {
   "attachments": {},
   "cell_type": "markdown",
   "metadata": {},
   "source": [
    "### Set time discretisation"
   ]
  },
  {
   "cell_type": "code",
   "execution_count": null,
   "metadata": {},
   "outputs": [],
   "source": [
    "ds = nlmod.time.set_ds_time(ds, time=pd.Timestamp.today(), start=1)"
   ]
  },
  {
   "attachments": {},
   "cell_type": "markdown",
   "metadata": {},
   "source": [
    "### Start building model"
   ]
  },
  {
   "cell_type": "code",
   "execution_count": null,
   "metadata": {},
   "outputs": [],
   "source": [
    "sim = nlmod.sim.sim(ds)\n",
    "tdis = nlmod.sim.tdis(ds, sim)\n",
    "ims = nlmod.sim.ims(sim, complexity=\"SIMPLE\")\n",
    "gwf = nlmod.gwf.gwf(ds, sim)\n",
    "dis = nlmod.gwf.dis(ds, gwf)\n",
    "npf = nlmod.gwf.npf(\n",
    "    ds, gwf, save_flows=True, save_specific_discharge=True, save_saturation=True\n",
    ")\n",
    "ic = nlmod.gwf.ic(ds, gwf, starting_head=1.0)\n",
    "oc = nlmod.gwf.oc(ds, gwf, save_head=True)"
   ]
  },
  {
   "attachments": {},
   "cell_type": "markdown",
   "metadata": {},
   "source": [
    "### Add wells"
   ]
  },
  {
   "cell_type": "code",
   "execution_count": null,
   "metadata": {},
   "outputs": [],
   "source": [
    "wells = pd.DataFrame(columns=[\"x\", \"y\", \"top\", \"botm\", \"Q\"], index=range(2))\n",
    "wells.index.name = \"well no.\"\n",
    "wells.loc[0] = 100, -50, -5, -10, -100.0\n",
    "wells.loc[1] = 200, 150, -20, -30, -300.0\n",
    "wells"
   ]
  },
  {
   "cell_type": "code",
   "execution_count": null,
   "metadata": {},
   "outputs": [],
   "source": [
    "wel = nlmod.gwf.wells.wel_from_df(wells, gwf)"
   ]
  },
  {
   "attachments": {},
   "cell_type": "markdown",
   "metadata": {},
   "source": [
    "### Add river"
   ]
  },
  {
   "cell_type": "code",
   "execution_count": null,
   "metadata": {},
   "outputs": [],
   "source": [
    "xyriv = [\n",
    "    (250, -500),\n",
    "    (300, -300),\n",
    "    (275, 0),\n",
    "    (200, 250),\n",
    "    (175, 500),\n",
    "]\n",
    "\n",
    "riv_layer = 0  # add to first layer\n",
    "\n",
    "bed_resistance = 0.1  # days\n",
    "riv_cond = dx * dy / bed_resistance  # conductance\n",
    "riv_stage = 1.0  # m NAP\n",
    "riv_botm = -3.0  # m NAP"
   ]
  },
  {
   "cell_type": "code",
   "execution_count": null,
   "metadata": {},
   "outputs": [],
   "source": [
    "riv_data = nlmod.gwf.surface_water.rivdata_from_xylist(\n",
    "    gwf, xyriv, riv_layer, riv_stage, riv_cond, riv_botm\n",
    ")\n",
    "\n",
    "riv = fp.mf6.ModflowGwfriv(gwf, stress_period_data={0: riv_data})"
   ]
  },
  {
   "attachments": {},
   "cell_type": "markdown",
   "metadata": {},
   "source": [
    "### Write and run Simulation"
   ]
  },
  {
   "cell_type": "code",
   "execution_count": null,
   "metadata": {},
   "outputs": [],
   "source": [
    "nlmod.sim.write_and_run(sim, ds, silent=True)"
   ]
  },
  {
   "attachments": {},
   "cell_type": "markdown",
   "metadata": {},
   "source": [
    "### Load heads"
   ]
  },
  {
   "cell_type": "code",
   "execution_count": null,
   "metadata": {},
   "outputs": [],
   "source": [
    "head = nlmod.gwf.get_heads_da(ds)"
   ]
  },
  {
   "attachments": {},
   "cell_type": "markdown",
   "metadata": {},
   "source": [
    "### Plot heads"
   ]
  },
  {
   "cell_type": "code",
   "execution_count": null,
   "metadata": {},
   "outputs": [],
   "source": [
    "# using nlmod plotting methods\n",
    "ax = nlmod.plot.map_array(\n",
    "    head.sel(layer=0).isel(time=0),\n",
    "    ds,\n",
    "    cmap=\"RdYlBu\",\n",
    "    colorbar_label=\"head [m NAP]\",\n",
    "    xlabel=\"x [km]\",\n",
    "    ylabel=\"y [km]\",\n",
    "    title=\"head first layer\",\n",
    "    plot_grid=True,\n",
    ")"
   ]
  },
  {
   "attachments": {},
   "cell_type": "markdown",
   "metadata": {},
   "source": [
    "### Plot heads in all layers"
   ]
  },
  {
   "cell_type": "code",
   "execution_count": null,
   "metadata": {},
   "outputs": [],
   "source": [
    "# using xarray plotting methods\n",
    "fg = head.plot(\n",
    "    x=\"x\",\n",
    "    y=\"y\",\n",
    "    col=\"layer\",\n",
    "    col_wrap=3,\n",
    "    cmap=\"RdYlBu\",\n",
    "    subplot_kws={\"aspect\": \"equal\"},\n",
    "    cbar_kwargs={\"label\": \"head [m NAP]\"},\n",
    ")\n",
    "\n",
    "for iax in fg.axs.flat:\n",
    "    nlmod.plot.modelgrid(ds, ax=iax, alpha=0.5, lw=0.5)"
   ]
  },
  {
   "cell_type": "code",
   "execution_count": null,
   "metadata": {},
   "outputs": [],
   "source": []
  }
 ],
 "metadata": {
  "language_info": {
   "name": "python"
  }
 },
 "nbformat": 4,
 "nbformat_minor": 4
}
