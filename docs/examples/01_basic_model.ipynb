{
 "cells": [
  {
   "cell_type": "markdown",
   "metadata": {},
   "source": [
    "<IMG SRC=\"https://avatars2.githubusercontent.com/u/31697400?s=400&u=a5a6fc31ec93c07853dd53835936fd90c44f7483&v=4\" WIDTH=125 ALIGN=\"right\">\n",
    "\n",
    "\n",
    "# Building a model anywhere in the Netherlands  \n",
    "\n",
    "This example notebook shows a basic example of a model created using online data with the `nlmod` package. `nlmod` contains functions to create modflow models anywhere in the Netherlands."
   ]
  },
  {
   "cell_type": "code",
   "execution_count": null,
   "metadata": {},
   "outputs": [],
   "source": [
    "import nlmod"
   ]
  },
  {
   "cell_type": "code",
   "execution_count": null,
   "metadata": {},
   "outputs": [],
   "source": [
    "nlmod.util.get_color_logger(\"INFO\")\n",
    "nlmod.show_versions()"
   ]
  },
  {
   "cell_type": "markdown",
   "metadata": {},
   "source": [
    "## Create model\n",
    "\n",
    "With the code below we create a modflow model with the name 'IJmuiden'. This model has the following properties:\n",
    "\n",
    "- an extent that covers part of the Northsea, Noordzeekanaal and the small port city IJmuiden.\n",
    "- a structured grid based on the subsurface models [Regis](https://www.dinoloket.nl/regis-ii-het-hydrogeologische-model) and [Geotop](https://www.dinoloket.nl/detaillering-van-de-bovenste-lagen-met-geotop). The Regis layers that are not present within the extent are removed. In this case we use 'MSz1' as the bottom layer of the model. Use `nlmod.read.regis.get_layer_names()` to get all the layer names of Regis. All Regis layers below this layer are not used in the model. Geotop is used to replace the Holocene layer in Regis because there is no kh or kv defined for the Holocene in Regis. Part of the model is in the North sea. Regis and Geotop have no data there. Therefore the Regis and Geotop layers are extrapolated from the shore and the seabed is added using bathymetry data from [Jarkus](https://www.openearth.nl/rws-bathymetry/2018.html).\n",
    "- starting heads of 1 in every cell.\n",
    "- the model is a steady state model with a single time step.\n",
    "- big surface water bodies (Northsea, IJsselmeer, Markermeer, Noordzeekanaal) within the extent are added as a general head boundary. The surface water bodies are obtained from a [shapefile](..\\data\\shapes\\opp_water.shp).\n",
    "- surface drainage is added using the Dutch DEM ([ahn](https://www.ahn.nl)) and a default conductance of $1000 m^2/d$\n",
    "- recharge is added using data from [knmi](https://www.knmi.nl/nederland-nu/klimatologie/daggegevens) using the following steps:\n",
    "   1. Check for each cell which KNMI weather and/or rainfall station is closest.\n",
    "   2. Download the data for the stations found in 1. for the model period. For a steady state stress period the average precipitation and evaporation of 8 years before the stress period time is used.\n",
    "   3. Combine precipitation and evaporation data from step 2 to create a recharge time series for each cell,\n",
    "   4. Add the timeseries to the model dataset and create the recharge package.\n",
    "- constant head boundaries are added to the model edges in every layer. The starting head is used as the specified head."
   ]
  },
  {
   "cell_type": "code",
   "execution_count": null,
   "metadata": {},
   "outputs": [],
   "source": [
    "# model settings\n",
    "model_ws = \"ijmuiden\"\n",
    "model_name = \"IJmuiden\"\n",
    "figdir, cachedir = nlmod.util.get_model_dirs(model_ws)\n",
    "extent = [95000.0, 105000.0, 494000.0, 500000.0]\n",
    "delr = 100.0\n",
    "delc = 100.0\n",
    "steady_state = True\n",
    "start_time = \"2015-1-1\"\n",
    "add_northsea = True\n",
    "starting_head = 1.0"
   ]
  },
  {
   "cell_type": "code",
   "execution_count": null,
   "metadata": {},
   "outputs": [],
   "source": [
    "layer_model = nlmod.read.regis.get_combined_layer_models(\n",
    "    extent,\n",
    "    use_regis=True,\n",
    "    regis_botm_layer=\"MSz1\",\n",
    "    use_geotop=True,\n",
    "    cachedir=cachedir,\n",
    "    cachename=\"combined_layer_ds.nc\",\n",
    ")\n",
    "\n",
    "# create a model ds by changing grid of layer_model\n",
    "ds = nlmod.to_model_ds(layer_model, model_name, model_ws, delr=delr, delc=delc)\n",
    "\n",
    "# add time discretisation\n",
    "ds = nlmod.time.set_ds_time(ds, start=start_time, steady=steady_state, perlen=365 * 5)\n",
    "\n",
    "# read surface water data\n",
    "gdf_surface_water = nlmod.read.rws.get_gdf_surface_water(\n",
    "    ds=ds, cachedir=cachedir, cachename=\"rws_surface_water.pklz\"\n",
    ")\n",
    "\n",
    "# add northsea to modelgrid\n",
    "if add_northsea:\n",
    "    ds.update(nlmod.read.rws.discretize_northsea(ds, gdf=gdf_surface_water))\n",
    "    ds.update(\n",
    "        nlmod.read.jarkus.get_bathymetry(\n",
    "            ds=ds, cachedir=cachedir, cachename=\"bathymetry.nc\"\n",
    "        )\n",
    "    )\n",
    "    ds = nlmod.dims.add_bathymetry_to_layer_model(ds)"
   ]
  },
  {
   "cell_type": "code",
   "execution_count": null,
   "metadata": {},
   "outputs": [],
   "source": [
    "# create simulation\n",
    "sim = nlmod.sim.sim(ds)\n",
    "\n",
    "# create time discretisation\n",
    "tdis = nlmod.sim.tdis(ds, sim)\n",
    "\n",
    "# create ims\n",
    "ims = nlmod.sim.ims(sim)\n",
    "\n",
    "# create groundwater flow model\n",
    "gwf = nlmod.gwf.gwf(ds, sim)\n",
    "\n",
    "# Create discretization\n",
    "dis = nlmod.gwf.dis(ds, gwf)\n",
    "\n",
    "# create node property flow\n",
    "npf = nlmod.gwf.npf(ds, gwf)\n",
    "\n",
    "# Create the initial conditions package\n",
    "ic = nlmod.gwf.ic(ds, gwf, starting_head=starting_head)\n",
    "\n",
    "# Create the output control package\n",
    "oc = nlmod.gwf.oc(ds, gwf)"
   ]
  },
  {
   "cell_type": "code",
   "execution_count": null,
   "metadata": {},
   "outputs": [],
   "source": [
    "# voeg grote oppervlaktewaterlichamen toe o.b.v. shapefile\n",
    "rws_ds = nlmod.read.rws.get_surface_water(\n",
    "    ds, gdf=gdf_surface_water, da_basename=\"rws_oppwater\"\n",
    ")\n",
    "\n",
    "# add data to model dataset\n",
    "ds.update(rws_ds)\n",
    "\n",
    "# build ghb package\n",
    "ghb = nlmod.gwf.ghb(ds, gwf, bhead=\"rws_oppwater_stage\", cond=\"rws_oppwater_cond\")"
   ]
  },
  {
   "cell_type": "code",
   "execution_count": null,
   "metadata": {},
   "outputs": [],
   "source": [
    "# surface level drain\n",
    "ahn_ds = nlmod.read.ahn.get_ahn(ds, cachedir=ds.cachedir, cachename=\"ahn\")\n",
    "# add data to model dataset\n",
    "ds.update(ahn_ds)\n",
    "\n",
    "# build surface level drain package\n",
    "drn = nlmod.gwf.surface_drain_from_ds(ds, gwf, resistance=10.0)"
   ]
  },
  {
   "cell_type": "code",
   "execution_count": null,
   "metadata": {},
   "outputs": [],
   "source": [
    "# add constant head cells at model boundaries\n",
    "ds.update(nlmod.grid.mask_model_edge(ds))\n",
    "chd = nlmod.gwf.chd(ds, gwf, mask=\"edge_mask\", head=\"starting_head\")"
   ]
  },
  {
   "cell_type": "code",
   "execution_count": null,
   "metadata": {},
   "outputs": [],
   "source": [
    "# download knmi recharge data\n",
    "knmi_ds = nlmod.read.knmi.get_recharge(ds, cachedir=ds.cachedir, cachename=\"recharge\")\n",
    "# update model dataset\n",
    "ds.update(knmi_ds)\n",
    "\n",
    "# create recharge package\n",
    "rch = nlmod.gwf.rch(ds, gwf)"
   ]
  },
  {
   "cell_type": "markdown",
   "metadata": {},
   "source": [
    "A big part of the model data is stored in the variable `ds` which is an `xarray.Dataset`. The data is shown below."
   ]
  },
  {
   "cell_type": "code",
   "execution_count": null,
   "metadata": {},
   "outputs": [],
   "source": [
    "ds"
   ]
  },
  {
   "cell_type": "markdown",
   "metadata": {},
   "source": [
    "## Write and Run\n",
    "Now that we've created all the modflow packages we need to write them to modflow files. You always have to write the modflow data to the model workspace before you can run the model. You can write the model files and run the model using the function `nlmod.sim.write_and_run)` as shown below. This function has two additional options:\n",
    "\n",
    "1. Write the model dataset to the disk if `write_ds` is `True`. This makes it easier and faster to load model data if you ever need it. \n",
    "2. Write a copy of this Jupyter Notebook to the same directory as the modflow files if `nb_path` is the name of this Jupyter Notebook. It can be useful to have a copy of the script that created the modflow files, together with the files. "
   ]
  },
  {
   "cell_type": "code",
   "execution_count": null,
   "metadata": {},
   "outputs": [],
   "source": [
    "nlmod.sim.write_and_run(sim, ds, write_ds=True, script_path=\"01_basic_model.ipynb\")"
   ]
  },
  {
   "cell_type": "markdown",
   "metadata": {},
   "source": [
    "## Visualise\n",
    "Using the `ds` and `gwf` variables it is quite easy to visualise model data. Below the modelgrid together with the surface water is shown."
   ]
  },
  {
   "cell_type": "code",
   "execution_count": null,
   "metadata": {},
   "outputs": [],
   "source": [
    "ax = nlmod.plot.modelgrid(ds)\n",
    "nlmod.plot.surface_water(ds, ax=ax)"
   ]
  },
  {
   "cell_type": "markdown",
   "metadata": {},
   "source": [
    "Data from a model with a structured grid can be easily visualised using the model dataset. Below are some examples:"
   ]
  },
  {
   "cell_type": "code",
   "execution_count": null,
   "metadata": {},
   "outputs": [],
   "source": [
    "fig, axes = nlmod.plot.get_map(ds.extent, nrows=2, ncols=2, figsize=14)\n",
    "ds[\"ahn\"].plot(ax=axes[0][0])\n",
    "ds[\"botm\"][0].plot(ax=axes[0][1])\n",
    "nlmod.layers.get_idomain(ds)[0].plot(ax=axes[1][0])\n",
    "ds[\"edge_mask\"][0].plot(ax=axes[1][1])\n",
    "\n",
    "fig, axes = nlmod.plot.get_map(ds.extent, nrows=2, ncols=2, figsize=14)\n",
    "ds[\"bathymetry\"].plot(ax=axes[0][0])\n",
    "ds[\"northsea\"].plot(ax=axes[0][1])\n",
    "ds[\"kh\"][1].plot(ax=axes[1][0])\n",
    "ds[\"recharge\"].plot(ax=axes[1][1]);"
   ]
  }
 ],
 "metadata": {
  "kernelspec": {
   "display_name": "dev2",
   "language": "python",
   "name": "python3"
  },
  "language_info": {
   "name": "python",
   "version": "3.12.9"
  }
 },
 "nbformat": 4,
 "nbformat_minor": 4
}
