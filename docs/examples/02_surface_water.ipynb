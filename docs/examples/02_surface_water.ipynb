{
 "cells": [
  {
   "cell_type": "markdown",
   "id": "3a252814",
   "metadata": {},
   "source": [
    "# Adding surface water to a model\n",
    "\n",
    "*D.A. Brakenhoff, Artesia, 2020*\n",
    "*R.J. Calje, Artesia, 2023*\n",
    "\n",
    "This example notebook shows some how to add surface water defined in a GeoDataFrame to a MODFLOW model using the `nlmod` package.\n",
    "\n",
    "There are three water boards in the model area, and we download seasonal data about the stage of the surface water for each. In this notebook we perform a steady-state run, in which the stage of the surface water is the mean of the summer and winter stage. For locations without a stage from the water board, we obtain information from a Digital Terrain Model near the surface water features, to estimate a stage. We assign a stage of 0.0 m NAP to the river Lek. The surface water bodies in each cell are aggregated using an area-weighted method and added to the model with the river-package."
   ]
  },
  {
   "cell_type": "code",
   "execution_count": null,
   "id": "a13eab81",
   "metadata": {},
   "outputs": [],
   "source": [
    "import os\n",
    "\n",
    "import flopy\n",
    "import matplotlib.pyplot as plt\n",
    "import rioxarray\n",
    "\n",
    "import nlmod"
   ]
  },
  {
   "cell_type": "code",
   "execution_count": null,
   "id": "be54846a",
   "metadata": {},
   "outputs": [],
   "source": [
    "nlmod.util.get_color_logger(\"INFO\")\n",
    "nlmod.show_versions()"
   ]
  },
  {
   "cell_type": "markdown",
   "id": "60cd770c",
   "metadata": {},
   "source": [
    "## Load data"
   ]
  },
  {
   "cell_type": "markdown",
   "id": "e10ce1e3",
   "metadata": {},
   "source": [
    "First we define the extent of our model and subsequently input that information into the convenient methods in `nlmod` to download all the relevant data and create a Modflow6 model."
   ]
  },
  {
   "cell_type": "code",
   "execution_count": null,
   "id": "d2e50196",
   "metadata": {},
   "outputs": [],
   "source": [
    "model_name = \"steady\"\n",
    "model_ws = \"schoonhoven\"\n",
    "figdir, cachedir = nlmod.util.get_model_dirs(model_ws)\n",
    "extent = [116_500, 120_000, 439_000, 442_000]"
   ]
  },
  {
   "cell_type": "markdown",
   "id": "b7c5efff",
   "metadata": {},
   "source": [
    "### AHN\n",
    "Download the Digital Terrain model of the Netherlands (AHN). To speed up this notebook we download data on a resolution of 5 meter. We can change this to a resolution of 0.5 meter, changing the identifier to \"AHN4_DTM_05m\"."
   ]
  },
  {
   "cell_type": "code",
   "execution_count": null,
   "id": "a696b36a",
   "metadata": {},
   "outputs": [],
   "source": [
    "fname_ahn = os.path.join(cachedir, \"ahn.tif\")\n",
    "if not os.path.isfile(fname_ahn):\n",
    "    ahn = nlmod.read.ahn.get_ahn4(extent)\n",
    "    ahn.rio.to_raster(fname_ahn)\n",
    "ahn = rioxarray.open_rasterio(fname_ahn, mask_and_scale=True)[0]"
   ]
  },
  {
   "cell_type": "markdown",
   "id": "829452bc",
   "metadata": {},
   "source": [
    "### Layer 'waterdeel' from bgt\n",
    "As the source of the location of the surface water bodies we use the 'waterdeel' layer of the Basisregistratie Grootschalige Topografie (BGT). This data consists of detailed polygons, maintained by dutch government agencies (water boards, municipalities and Rijkswaterstaat)."
   ]
  },
  {
   "cell_type": "code",
   "execution_count": null,
   "id": "65eaae66",
   "metadata": {},
   "outputs": [],
   "source": [
    "bgt = nlmod.read.bgt.get_bgt(extent)"
   ]
  },
  {
   "cell_type": "markdown",
   "id": "84913028",
   "metadata": {},
   "source": [
    "#### Add minimum surface height around surface water bodies\n",
    "Get the minimum surface level in 5 meter around surface water levels and add these data to the column 'ahn_min'."
   ]
  },
  {
   "cell_type": "code",
   "execution_count": null,
   "id": "77de7451",
   "metadata": {},
   "outputs": [],
   "source": [
    "bgt = nlmod.gwf.add_min_ahn_to_gdf(bgt, ahn, buffer=5.0, column=\"ahn_min\")"
   ]
  },
  {
   "cell_type": "markdown",
   "id": "9e5aefb2",
   "metadata": {},
   "source": [
    "#### Plot 'bronhouder'\n",
    "We can plot the column 'bronhouder' from the GeoDataFrame bgt. We see there are three water boards in this area (with codes starting with 'W')."
   ]
  },
  {
   "cell_type": "code",
   "execution_count": null,
   "id": "dad09b8b",
   "metadata": {},
   "outputs": [],
   "source": [
    "f, ax = nlmod.plot.get_map(extent)\n",
    "bgt.plot(\"bronhouder\", legend=True, ax=ax)"
   ]
  },
  {
   "cell_type": "markdown",
   "id": "c7ca3205",
   "metadata": {},
   "source": [
    "### level areas\n",
    "For these three waterboards we download the level areas (peilgebieden): polygons with information about winter and summer stages."
   ]
  },
  {
   "cell_type": "code",
   "execution_count": null,
   "id": "f84940f1",
   "metadata": {},
   "outputs": [],
   "source": [
    "la = nlmod.gwf.surface_water.download_level_areas(\n",
    "    bgt, extent=extent, raise_exceptions=False\n",
    ")"
   ]
  },
  {
   "cell_type": "markdown",
   "id": "ca8b152a",
   "metadata": {},
   "source": [
    "#### Plot summer stage\n",
    "The method download_level_areas() generates a dictionary with the name of the water boards as keys and GeoDataFrames as values. Each GeoDataFrame contains the columns summer_stage and winter_stage. Let's plot the summer stage, together with the location of the surface water bodies."
   ]
  },
  {
   "cell_type": "code",
   "execution_count": null,
   "id": "8fc9ebac",
   "metadata": {},
   "outputs": [],
   "source": [
    "f, ax = nlmod.plot.get_map(extent)\n",
    "bgt.plot(color=\"k\", ax=ax)\n",
    "for wb in la:\n",
    "    la[wb].plot(\"summer_stage\", ax=ax, vmin=-3, vmax=1, zorder=0)"
   ]
  },
  {
   "cell_type": "markdown",
   "id": "27f1f547",
   "metadata": {},
   "source": [
    "#### Add stages to bgt-data\n",
    "We then add the information from these level areas to the surface water bodies."
   ]
  },
  {
   "cell_type": "code",
   "execution_count": null,
   "id": "7d3012b2",
   "metadata": {},
   "outputs": [],
   "source": [
    "bgt = nlmod.gwf.surface_water.add_stages_from_waterboards(bgt, la=la)"
   ]
  },
  {
   "cell_type": "markdown",
   "id": "5e5f3e46",
   "metadata": {},
   "source": [
    "#### Save the data to use in other notebooks as well\n",
    "We save the bgt-data to a GeoPackage file, so we can use the data in other notebooks with surface water as well."
   ]
  },
  {
   "cell_type": "code",
   "execution_count": null,
   "id": "e6a54720",
   "metadata": {},
   "outputs": [],
   "source": [
    "fname_bgt = os.path.join(cachedir, \"bgt.gpkg\")\n",
    "bgt.to_file(fname_bgt)"
   ]
  },
  {
   "cell_type": "markdown",
   "id": "cc2edca4",
   "metadata": {},
   "source": [
    "#### Change some values in the GeoDataFrame for this model"
   ]
  },
  {
   "cell_type": "code",
   "execution_count": null,
   "id": "841b505e",
   "metadata": {},
   "outputs": [],
   "source": [
    "sfw = bgt\n",
    "sfw[\"stage\"] = sfw[[\"winter_stage\", \"summer_stage\"]].mean(1)\n",
    "# use a water depth of 0.5 meter\n",
    "sfw[\"botm\"] = sfw[\"stage\"] - 0.5\n",
    "# set the stage of the Lek to 0.0 m NAP and the botm to -3 m NAP\n",
    "mask = sfw[\"bronhouder\"] == \"L0002\"\n",
    "sfw.loc[mask, \"stage\"] = 0.0\n",
    "sfw.loc[mask, \"botm\"] = -3.0"
   ]
  },
  {
   "cell_type": "markdown",
   "id": "6a0ac1f0",
   "metadata": {},
   "source": [
    "Take a look at the first few rows. For adding surface water features to a MODFLOW model the following attributes must be present:\n",
    "\n",
    "- **stage**: the water level (in m NAP)\n",
    "- **botm**: the bottom elevation (in m NAP)\n",
    "- **c0**: the bottom resistance (in days)\n",
    "\n",
    "The `stage` and the `botm` columns are present in our dataset. The bottom resistance `c0` is rarely known, and is usually estimated when building the model. We will add our estimate later on.\n",
    "\n",
    "<div class=\"alert alert-info\">\n",
    "    \n",
    "<b>Note:</b>\n",
    "\n",
    "The NaN's in the dataset indicate that not all parameters are known for each feature. This is not necessarily a problem but this will mean some features will not be converted to model input.\n",
    "   \n",
    "</div>"
   ]
  },
  {
   "cell_type": "markdown",
   "id": "f158267f",
   "metadata": {},
   "source": [
    "Now use `stage` as the column to color the data. Note the missing features caused by the fact that the stage is undefined (NaN)."
   ]
  },
  {
   "cell_type": "code",
   "execution_count": null,
   "id": "17d75fcb",
   "metadata": {},
   "outputs": [],
   "source": [
    "fig, ax = nlmod.plot.get_map(extent)\n",
    "sfw.plot(ax=ax, column=\"stage\", legend=True)"
   ]
  },
  {
   "cell_type": "markdown",
   "id": "03610316",
   "metadata": {},
   "source": [
    "## Build model\n",
    "\n",
    "The next step is to define a model grid and build a model (i.e. create a discretization and define flow parameters)."
   ]
  },
  {
   "cell_type": "markdown",
   "id": "24523f79",
   "metadata": {},
   "source": [
    "Build the model. We're keeping the model as simple as possible."
   ]
  },
  {
   "cell_type": "code",
   "execution_count": null,
   "id": "9bc8b375",
   "metadata": {},
   "outputs": [],
   "source": [
    "delr = delc = 50.0\n",
    "start_time = \"2021-01-01\""
   ]
  },
  {
   "cell_type": "code",
   "execution_count": null,
   "id": "4b48338c",
   "metadata": {},
   "outputs": [],
   "source": [
    "# layer model\n",
    "layer_model = nlmod.read.get_regis(\n",
    "    extent, cachedir=cachedir, cachename=\"layer_model.nc\"\n",
    ")\n",
    "layer_model"
   ]
  },
  {
   "cell_type": "code",
   "execution_count": null,
   "id": "99c204f8",
   "metadata": {},
   "outputs": [],
   "source": [
    "# create a model ds by changing grid of layer_model\n",
    "ds = nlmod.to_model_ds(layer_model, model_name, model_ws, delr=delr, delc=delc)\n",
    "\n",
    "# create model time dataset\n",
    "ds = nlmod.time.set_ds_time(ds, start=start_time, steady=True, perlen=1)\n",
    "\n",
    "ds"
   ]
  },
  {
   "cell_type": "code",
   "execution_count": null,
   "id": "b35ea38e",
   "metadata": {},
   "outputs": [],
   "source": [
    "# create simulation\n",
    "sim = nlmod.sim.sim(ds)\n",
    "\n",
    "# create time discretisation\n",
    "tdis = nlmod.sim.tdis(ds, sim)\n",
    "\n",
    "# create ims\n",
    "ims = nlmod.sim.ims(sim)\n",
    "\n",
    "# create groundwater flow model\n",
    "gwf = nlmod.gwf.gwf(ds, sim)\n",
    "\n",
    "# Create discretization\n",
    "dis = nlmod.gwf.dis(ds, gwf)\n",
    "\n",
    "# create node property flow\n",
    "npf = nlmod.gwf.npf(ds, gwf)\n",
    "\n",
    "# Create the initial conditions package\n",
    "ic = nlmod.gwf.ic(ds, gwf, starting_head=1.0)\n",
    "\n",
    "# Create the output control package\n",
    "oc = nlmod.gwf.oc(ds, gwf)"
   ]
  },
  {
   "cell_type": "markdown",
   "id": "0ef4321a",
   "metadata": {},
   "source": [
    "## Add surface water\n",
    "\n",
    "Now that we have a discretization (a grid, and layer tops and bottoms) we can start processing our surface water shapefile to add surface water features to our model. The method to add surface water starting from a shapefile is divided into the following steps:\n",
    "\n",
    "1. Intersect surface water shape with grid. This steps intersects every feature with the grid so we can determine the surface water features in each cell.\n",
    "2. Aggregate parameters per grid cell. Each feature within a cell has its own parameters. For MODFLOW it is often desirable to have one representative set of parameters per cell. These representative parameters are calculated in this step.\n",
    "3. Build stress period data. The results from the previous step are converted to stress period data (generally a list of cellids and representative parameters: `[(cellid), parameters]`) which is used by MODFLOW and flopy to define boundary conditions.\n",
    "4. Create the Modflow6 package\n",
    "\n",
    "The steps are illustrated below."
   ]
  },
  {
   "cell_type": "markdown",
   "id": "94f5845e",
   "metadata": {},
   "source": [
    "### Intersect surface water shape with grid\n",
    "\n",
    "The first step is to intersect the surface water shapefile with the grid."
   ]
  },
  {
   "cell_type": "code",
   "execution_count": null,
   "id": "9b4a90b5",
   "metadata": {},
   "outputs": [],
   "source": [
    "sfw_grid = nlmod.grid.gdf_to_grid(\n",
    "    sfw, gwf, cachedir=ds.cachedir, cachename=\"sfw_grid.pklz\"\n",
    ")"
   ]
  },
  {
   "cell_type": "markdown",
   "id": "7c19ad24",
   "metadata": {},
   "source": [
    "Plot the result and the model grid and color using `cellid`. It's perhaps a bit hard to see but each feature is cut by the gridlines. "
   ]
  },
  {
   "cell_type": "code",
   "execution_count": null,
   "id": "82a551e9",
   "metadata": {},
   "outputs": [],
   "source": [
    "fig, ax = nlmod.plot.get_map(extent)\n",
    "sfw_grid.plot(ax=ax, column=\"cellid\")\n",
    "nlmod.plot.modelgrid(ds, ax=ax, lw=0.2)"
   ]
  },
  {
   "cell_type": "markdown",
   "id": "086237da",
   "metadata": {},
   "source": [
    "### Aggregate parameters per model cell\n",
    "The next step is to aggregate the parameters for all the features in one grid cell to obtain one representative set of parameters. First, let's take a look at a grid cell containing multiple features. We take the gridcell that contains the most features."
   ]
  },
  {
   "cell_type": "code",
   "execution_count": null,
   "id": "ded567ef",
   "metadata": {},
   "outputs": [],
   "source": [
    "cid = sfw_grid.cellid.value_counts().index[0]\n",
    "mask = sfw_grid.cellid == cid\n",
    "sfw_grid.loc[mask]"
   ]
  },
  {
   "cell_type": "markdown",
   "id": "49ab1d1e",
   "metadata": {},
   "source": [
    "We can also plot the features within that grid cell."
   ]
  },
  {
   "cell_type": "code",
   "execution_count": null,
   "id": "3628d275",
   "metadata": {},
   "outputs": [],
   "source": [
    "fig, ax = plt.subplots(1, 1, figsize=(10, 8))\n",
    "sfw_grid.loc[mask].plot(\n",
    "    column=\"identificatie\",\n",
    "    legend=True,\n",
    "    ax=ax,\n",
    "    legend_kwds={\"loc\": \"lower left\", \"ncol\": 2, \"fontsize\": \"x-small\"},\n",
    ")\n",
    "xlim = ax.get_xlim()\n",
    "ylim = ax.get_ylim()\n",
    "gwf.modelgrid.plot(ax=ax)\n",
    "ax.set_xlim(xlim[0], xlim[0] + nlmod.grid.get_delr(ds)[-1] * 1.1)\n",
    "ax.set_ylim(ylim)\n",
    "ax.set_title(f\"Surface water shapes in cell: {cid}\")"
   ]
  },
  {
   "cell_type": "markdown",
   "id": "4e768334",
   "metadata": {},
   "source": [
    "Now we want to aggregate the features in each cell to obtain a representative set of parameters (`stage`, `conductance`, `bottom elevation`) to use in the model. There are several aggregation methods. Note that the names of the methods are not representative of the aggregation applied to each parameter. For a full description see the following list:\n",
    "\n",
    "- `'area_weighted'`\n",
    "  - **stage**: area-weighted average of stage in cell\n",
    "  - **cond**: conductance is equal to area of surface water divided by bottom resistance\n",
    "  - **elev**: the lowest bottom elevation is representative for the cell\n",
    "- `'max_area'`\n",
    "  - **stage**: stage is determined by the largest surface water feature in a cell\n",
    "  - **cond**: conductance is equal to area of all surface water features divided by bottom resistance\n",
    "  - **elev**: the lowest bottom elevation is representative for the cell\n",
    "- `'de_lange'`\n",
    "  - **stage**: area-weighted average of stage in cell\n",
    "  - **cond**: conductance is calculated using the formulas derived by De Lange (1999).\n",
    "  - **elev**: the lowest bottom elevation is representative for the cell\n",
    "  \n",
    "Let's try using `area_weighted`. This means the stage is the area-weighted average of all the surface water features in a cell. The conductance is calculated by dividing the total area of surface water in a cell by the bottom resistance (`c0`). The representative bottom elevation is the lowest elevation present in the cell."
   ]
  },
  {
   "cell_type": "code",
   "execution_count": null,
   "id": "ffa7f59b",
   "metadata": {},
   "outputs": [],
   "source": [
    "try:\n",
    "    nlmod.gwf.surface_water.aggregate(sfw_grid, \"area_weighted\")\n",
    "except ValueError as e:\n",
    "    print(e)"
   ]
  },
  {
   "cell_type": "markdown",
   "id": "9da16e27",
   "metadata": {},
   "source": [
    "The function checks whether the requisite columns are defined in the DataFrame. We need to add a column containing the bottom resistance `c0`. Often a value of 1 day is used as an initial estimate."
   ]
  },
  {
   "cell_type": "code",
   "execution_count": null,
   "id": "572e51e5",
   "metadata": {},
   "outputs": [],
   "source": [
    "sfw_grid[\"c0\"] = 1.0  # days"
   ]
  },
  {
   "cell_type": "markdown",
   "id": "ce36efc0",
   "metadata": {},
   "source": [
    "Now aggregate the features."
   ]
  },
  {
   "cell_type": "code",
   "execution_count": null,
   "id": "03f980b9",
   "metadata": {},
   "outputs": [],
   "source": [
    "celldata = nlmod.gwf.surface_water.aggregate(\n",
    "    sfw_grid, \"area_weighted\", cachedir=ds.cachedir, cachename=\"celldata.pklz\"\n",
    ")"
   ]
  },
  {
   "cell_type": "markdown",
   "id": "d1907bde",
   "metadata": {},
   "source": [
    "Let's take a look at the result. We now have a DataFrame with cell-id as the index and the three parameters we need for each cell `stage`, `cond` and `rbot`. The area is also given, but is not needed for the groundwater model. "
   ]
  },
  {
   "cell_type": "code",
   "execution_count": null,
   "id": "0f6b8d06",
   "metadata": {},
   "outputs": [],
   "source": [
    "celldata.head(10)"
   ]
  },
  {
   "cell_type": "markdown",
   "id": "5349cf12",
   "metadata": {},
   "source": [
    "### Build stress period data\n",
    "\n",
    "The next step is to take our cell-data and build convert it to 'stress period data' for MODFLOW. This is a data format that defines the parameters in each cell in the following format:\n",
    "\n",
    "```\n",
    "[[(cellid1), param1a, param1b, param1c],\n",
    " [(cellid2), param2a, param2b, param2c],\n",
    " ...]\n",
    "```\n",
    "\n",
    "The required parameters are defined by the MODFLOW-package used:\n",
    "\n",
    "- **RIV**: for the river package `(stage, cond, rbot)`\n",
    "- **DRN**: for the drain package `(stage, cond)`\n",
    "- **GHB**: for the general-head-boundary package `(stage, cond)`\n",
    "\n",
    "We're selecting the RIV package. We don't have a bottom (rbot) for each reach in celldata. Therefore we remove the reaches where rbot is nan (not a number)."
   ]
  },
  {
   "cell_type": "code",
   "execution_count": null,
   "id": "d927545f-83a4-4911-b884-37a306637ab4",
   "metadata": {},
   "outputs": [],
   "source": [
    "new_celldata = celldata.loc[~celldata.rbot.isna()]\n",
    "print(f\"removed {len(celldata)-len(new_celldata)} reaches because rbot is nan\")"
   ]
  },
  {
   "cell_type": "code",
   "execution_count": null,
   "id": "095b3323",
   "metadata": {},
   "outputs": [],
   "source": [
    "riv_spd = nlmod.gwf.surface_water.build_spd(new_celldata, \"RIV\", ds)"
   ]
  },
  {
   "cell_type": "markdown",
   "id": "fbc24c19",
   "metadata": {},
   "source": [
    "Take a look at the stress period data for the river package:"
   ]
  },
  {
   "cell_type": "code",
   "execution_count": null,
   "id": "37144d27",
   "metadata": {},
   "outputs": [],
   "source": [
    "riv_spd[:10]"
   ]
  },
  {
   "cell_type": "markdown",
   "id": "56e9694f",
   "metadata": {},
   "source": [
    "### Create RIV package\n",
    "The final step is to create the river package using flopy."
   ]
  },
  {
   "cell_type": "code",
   "execution_count": null,
   "id": "35478e93",
   "metadata": {},
   "outputs": [],
   "source": [
    "riv = flopy.mf6.ModflowGwfriv(gwf, stress_period_data=riv_spd)"
   ]
  },
  {
   "cell_type": "markdown",
   "id": "31274540",
   "metadata": {},
   "source": [
    "Plot the river boundary condition to see where rivers were added in the model"
   ]
  },
  {
   "cell_type": "code",
   "execution_count": null,
   "id": "11da46a0",
   "metadata": {},
   "outputs": [],
   "source": [
    "# use flopy plotting methods\n",
    "fig, ax = plt.subplots(1, 1, figsize=(10, 8), constrained_layout=True)\n",
    "mv = flopy.plot.PlotMapView(model=gwf, ax=ax, layer=0)\n",
    "mv.plot_bc(\"RIV\")"
   ]
  },
  {
   "cell_type": "markdown",
   "id": "f740f373",
   "metadata": {},
   "source": [
    "## Write + run model\n",
    "\n",
    "Now write the model simulation to disk, and run the simulation."
   ]
  },
  {
   "cell_type": "code",
   "execution_count": null,
   "id": "414f388f",
   "metadata": {},
   "outputs": [],
   "source": [
    "nlmod.sim.write_and_run(sim, ds, write_ds=True, script_path=\"02_surface_water.ipynb\")"
   ]
  },
  {
   "cell_type": "markdown",
   "id": "1612a416",
   "metadata": {},
   "source": [
    "## Visualize results\n",
    "\n",
    "To see whether our surface water was correctly added to the model, let's visualize the results. We'll load the calculated heads, and plot them."
   ]
  },
  {
   "cell_type": "code",
   "execution_count": null,
   "id": "2593ec9d",
   "metadata": {},
   "outputs": [],
   "source": [
    "head = nlmod.gwf.get_heads_da(ds)"
   ]
  },
  {
   "cell_type": "markdown",
   "id": "ee8a6d94",
   "metadata": {},
   "source": [
    "Plot the heads in a specific model layer"
   ]
  },
  {
   "cell_type": "code",
   "execution_count": null,
   "id": "8b9e2c74",
   "metadata": {},
   "outputs": [],
   "source": [
    "# using nlmod plotting methods\n",
    "ax = nlmod.plot.map_array(\n",
    "    head,\n",
    "    ds,\n",
    "    ilay=0,\n",
    "    iper=0,\n",
    "    plot_grid=True,\n",
    "    title=\"Heads top-view\",\n",
    "    cmap=\"RdBu\",\n",
    "    colorbar_label=\"head [m NAP]\",\n",
    ")"
   ]
  },
  {
   "cell_type": "markdown",
   "id": "99dab419",
   "metadata": {},
   "source": [
    "In cross-section"
   ]
  },
  {
   "cell_type": "code",
   "execution_count": null,
   "id": "282abb74",
   "metadata": {},
   "outputs": [],
   "source": [
    "# using flopy plotting methods\n",
    "col = gwf.modelgrid.ncol // 2\n",
    "\n",
    "fig, ax = plt.subplots(1, 1, figsize=(10, 3))\n",
    "xs = flopy.plot.PlotCrossSection(model=gwf, ax=ax, line={\"column\": col})\n",
    "qm = xs.plot_array(head[-1], cmap=\"RdBu\")  # last timestep\n",
    "xs.plot_ibound()  # plot inactive cells in red\n",
    "xs.plot_grid(lw=0.25, color=\"k\")\n",
    "ax.set_ylim(bottom=-150)\n",
    "ax.set_ylabel(\"elevation [m NAP]\")\n",
    "ax.set_xlabel(\"distance along cross-section [m]\")\n",
    "ax.set_title(f\"Cross-section along column {col}\")\n",
    "cbar = fig.colorbar(qm, shrink=1.0)\n",
    "cbar.set_label(\"head [m NAP]\")"
   ]
  }
 ],
 "metadata": {
  "language_info": {
   "name": "python"
  }
 },
 "nbformat": 4,
 "nbformat_minor": 5
}
