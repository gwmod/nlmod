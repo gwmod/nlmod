{
 "cells": [
  {
   "cell_type": "markdown",
   "metadata": {},
   "source": [
    "# Particle Tracking with PRT"
   ]
  },
  {
   "cell_type": "code",
   "execution_count": null,
   "metadata": {},
   "outputs": [],
   "source": [
    "from pathlib import Path\n",
    "\n",
    "import flopy as fp\n",
    "import numpy as np\n",
    "import pandas as pd\n",
    "import xarray as xr\n",
    "\n",
    "import nlmod"
   ]
  },
  {
   "cell_type": "code",
   "execution_count": null,
   "metadata": {},
   "outputs": [],
   "source": [
    "nlmod.util.get_color_logger(\"INFO\")\n",
    "nlmod.show_versions()"
   ]
  },
  {
   "cell_type": "code",
   "execution_count": null,
   "metadata": {},
   "outputs": [],
   "source": [
    "model_ws = Path(\"./scratch_model\")\n",
    "model_name = \"from_scratch\"\n",
    "\n",
    "# create new subdir for PRT model\n",
    "prt_ws = Path(model_ws) / \"prt\""
   ]
  },
  {
   "cell_type": "code",
   "execution_count": null,
   "metadata": {},
   "outputs": [],
   "source": [
    "ds = xr.open_dataset(model_ws / f\"{model_name}.nc\")"
   ]
  },
  {
   "cell_type": "code",
   "execution_count": null,
   "metadata": {},
   "outputs": [],
   "source": [
    "# Create a new Simulation object\n",
    "simprt = nlmod.sim.sim(ds, sim_ws=prt_ws)\n",
    "tdis = nlmod.sim.tdis(ds, simprt)\n",
    "\n",
    "# Add PRT model\n",
    "prt = nlmod.prt.prt(ds, simprt)\n",
    "\n",
    "# DIS: discretization package\n",
    "dis = nlmod.prt.dis(ds, prt)\n",
    "\n",
    "# MIP: matrix input package(?)\n",
    "mip = nlmod.prt.mip(ds, prt, porosity=0.3)\n",
    "\n",
    "# PRP: particle release package\n",

    "pdata = fp.modpath.ParticleData(\n",
    "    [\n",
    "        (k, i, j)\n",
    "        for i in np.arange(0, ds.sizes[\"y\"], 11)\n",
    "        for j in np.arange(0, ds.sizes[\"x\"], 11)\n",
    "        for k in [0, 1, 2]\n",
    "    ],\n",
    "    structured=True,\n",
    ")\n",
    "releasepts = list(pd.to_prp(prt.modelgrid, global_xy=False))\n",
    "prp = nlmod.prt.prp(ds, prt, packagedata=releasepts, perioddata={0: [\"FIRST\"]})\n",
    "\n",
    "# FMI: flow model interface\n",
    "gwf_budget_file = Path(ds.model_ws) / f\"{model_name}.cbc\"\n",
    "gwf_head_file = Path(ds.model_ws) / f\"{model_name}.hds\"\n",
    "fmi = fp.mf6.ModflowPrtfmi(\n",
    "    prt,\n",
    "    packagedata=[\n",
    "        (\"GWFHEAD\", gwf_head_file.absolute().resolve()),\n",
    "        (\"GWFBUDGET\", gwf_budget_file.absolute().resolve()),\n",
    "    ],\n",
    ")\n",
    "\n",
    "# OC: output control\n",
    "oc = nlmod.prt.oc(ds, prt)\n",
    "\n",
    "# EMS: explicit model solution\n",
    "ems = nlmod.sim.ems(simprt, model=prt)"
   ]
  },
  {
   "cell_type": "code",
   "execution_count": null,
   "metadata": {},
   "outputs": [],
   "source": [
    "simprt.write_simulation()\n",
    "simprt.run_simulation()"
   ]
  },
  {
   "cell_type": "markdown",
   "metadata": {},
   "source": [
    "Load pathline data"
   ]
  },
  {
   "cell_type": "code",
   "execution_count": null,
   "metadata": {},
   "outputs": [],
   "source": [
    "pathlines = pd.read_csv(model_ws / \"prt\" / trackcsvfile_prt)"
   ]
  },
  {
   "cell_type": "markdown",
   "metadata": {},
   "source": [
    "Plot results"
   ]
  },
  {
   "cell_type": "code",
   "execution_count": null,
   "metadata": {},
   "outputs": [],
   "source": [
    "pmv = fp.plot.PlotMapView(prt)\n",
    "# pmv.plot_grid(lw=0.5, color=\"k\")\n",
    "pmv.plot_pathline(\n",
    "    pathlines,\n",
    "    layer=\"all\",\n",
    "    colors=\"0.7\",\n",
    "    lw=1.0,\n",
    ")\n",
    "for ilay in [0, 1, 2]:\n",
    "    mask = pathlines[\"ilay\"] == (ilay + 1)\n",
    "    pmv.plot_pathline(\n",
    "        pathlines.loc[mask],\n",
    "        layer=ilay + 1,\n",
    "        # colors=f\"C{ilay}\",\n",
    "        lw=0.0,\n",
    "        marker=\".\",\n",
    "        ms=4,\n",
    "        markercolor=f\"C{ilay}\",\n",
    "        markerevery=5,\n",
    "    )\n",
    "pmv.plot_endpoint(pathlines, color=\"k\", marker=\".\", direction=\"starting\", zorder=10)\n",
    "\n",
    "# plot river\n",
    "xyriv = [(250, -500), (300, -300), (275, 0), (200, 250), (175, 500)]\n",
    "# plot well\n",
    "pmv.ax.plot(\n",
    "    [xy[0] for xy in xyriv],\n",
    "    [xy[1] for xy in xyriv],\n",
    "    \"b-\",\n",
    "    lw=4,\n",
    "    label=\"river\",\n",
    ")\n",
    "pmv.ax.plot([100, 200], [-50, 150], \"rs\", ms=5)\n",
    "handles = [\n",
    "    pmv.ax.plot([], [], \"C0.\", ms=5, label=\"Layer 0\")[0],\n",
    "    pmv.ax.plot([], [], \"C1.\", ms=5, label=\"Layer 1\")[0],\n",
    "    pmv.ax.plot([], [], \"C2.\", ms=5, label=\"Layer 2\")[0],\n",
    "]\n",
    "labels = [h.get_label() for h in handles]\n",
    "pmv.ax.legend(handles, labels, loc=(0, 1), frameon=False, ncol=3)\n",
    "pmv.ax.set_xlabel(\"X [m]\")\n",
    "pmv.ax.set_ylabel(\"Y [m]\");"
   ]
  }
 ],
 "metadata": {
  "language_info": {
   "name": "python"
  }
 },
 "nbformat": 4,
 "nbformat_minor": 2
}
